{
 "cells": [
  {
   "cell_type": "markdown",
   "id": "37c477e1",
   "metadata": {},
   "source": [
    "### LoanPredict_LogisticRegression"
   ]
  }
 ],
 "metadata": {
  "language_info": {
   "name": "python"
  }
 },
 "nbformat": 4,
 "nbformat_minor": 5
}
